{
 "cells": [
  {
   "cell_type": "markdown",
   "metadata": {},
   "source": [
    "# The take home challenge of the python programming class \n",
    "\n",
    "1) Create a function that takes in one default parameter or more. It should return the type of the variables (parameters).\n"
   ]
  },
  {
   "cell_type": "code",
   "execution_count": 6,
   "metadata": {},
   "outputs": [
    {
     "name": "stdout",
     "output_type": "stream",
     "text": [
      "Kia Cerato Coup 2019 Mustard Yellow True\n",
      "<class 'str'>\n",
      "<class 'str'>\n",
      "<class 'str'>\n",
      "<class 'bool'>\n"
     ]
    }
   ],
   "source": [
    "def cartypes(model, name, year=2019, color= 'Mustard Yellow', manual= True):\n",
    "    print(model, name, year, color, manual)\n",
    "    print(type(model))\n",
    "    print(type(name))\n",
    "    print(type(color))\n",
    "    print(type(manual))\n",
    "cartypes('Kia', 'Cerato Coup')"
   ]
  },
  {
   "cell_type": "markdown",
   "metadata": {},
   "source": [
    "2) Create a function that takes in a dictionary as a parameter. It should return key names AND/OR return a list of the dictionary values."
   ]
  },
  {
   "cell_type": "code",
   "execution_count": 12,
   "metadata": {},
   "outputs": [
    {
     "name": "stdout",
     "output_type": "stream",
     "text": [
      "{'name': 'Tokolo', 'surname': 'Kashupi', 'age': 24, 'gender': 'female', 'favfruits': ['oranges', 'mangos', 'apples', 'grapes', 'pineaples']}\n",
      "dict_keys(['name', 'surname', 'age', 'gender', 'favfruits'])\n",
      "dict_values(['Tokolo', 'Kashupi', 24, 'female', ['oranges', 'mangos', 'apples', 'grapes', 'pineaples']])\n"
     ]
    }
   ],
   "source": [
    "def myfunction(mydictionary = {'name':'Tokolo', 'surname':'Kashupi', 'age':24, 'gender':'female', \n",
    "    'favfruits': ['oranges','mangos','apples','grapes','pineaples']}):\n",
    "    print(mydictionary)\n",
    "    print(mydictionary.keys())\n",
    "    print(mydictionary.values())\n",
    "myfunction(mydictionary)"
   ]
  },
  {
   "cell_type": "raw",
   "metadata": {},
   "source": [
    "NB:::: I have done all two questions because 2 seemed to be a little bit tricky. So  have decided to do both just for correction and practicing"
   ]
  }
 ],
 "metadata": {
  "kernelspec": {
   "display_name": "Python 3",
   "language": "python",
   "name": "python3"
  },
  "language_info": {
   "codemirror_mode": {
    "name": "ipython",
    "version": 3
   },
   "file_extension": ".py",
   "mimetype": "text/x-python",
   "name": "python",
   "nbconvert_exporter": "python",
   "pygments_lexer": "ipython3",
   "version": "3.7.6"
  }
 },
 "nbformat": 4,
 "nbformat_minor": 4
}
