{
 "cells": [
  {
   "cell_type": "markdown",
   "metadata": {},
   "source": [
    "The Sao Paolo dataset is a dataset showing AirBnB rental prices in Sao Paolo in 2017. Start off by exploring this dataset, this process should include summarizing your dataset to understand whether each column carries categorical or numerical data, create visualizations showing interesting trends that you observe (ie. average price based on property type, number of bedrooms etc). Write commentary explaining your observations.\n",
    "\n",
    "Create a scatterplot showing the distribution of rental prices based on number of bedrooms. Finish this off by creating a function calculating a simple linear equation. Using only one parameter (number of bedrooms) predict the rental price of a house assuming the house has 4 bedrooms."
   ]
  },
  {
   "cell_type": "code",
   "execution_count": 1,
   "metadata": {},
   "outputs": [],
   "source": [
    "#answer\n",
    "\n",
    "# common libraries\n",
    "import numpy as np\n",
    "import pandas as pd\n",
    "import matplotlib.pyplot as plt\n",
    "import seaborn as sns\n",
    "from sklearn.linear_model import LinearRegression"
   ]
  },
  {
   "cell_type": "markdown",
   "metadata": {},
   "source": [
    "### Summarising the data"
   ]
  },
  {
   "cell_type": "code",
   "execution_count": null,
   "metadata": {},
   "outputs": [],
   "source": []
  },
  {
   "cell_type": "code",
   "execution_count": 2,
   "metadata": {},
   "outputs": [
    {
     "data": {
      "text/html": [
       "<div>\n",
       "<style scoped>\n",
       "    .dataframe tbody tr th:only-of-type {\n",
       "        vertical-align: middle;\n",
       "    }\n",
       "\n",
       "    .dataframe tbody tr th {\n",
       "        vertical-align: top;\n",
       "    }\n",
       "\n",
       "    .dataframe thead th {\n",
       "        text-align: right;\n",
       "    }\n",
       "</style>\n",
       "<table border=\"1\" class=\"dataframe\">\n",
       "  <thead>\n",
       "    <tr style=\"text-align: right;\">\n",
       "      <th></th>\n",
       "      <th>room_id</th>\n",
       "      <th>survey_id</th>\n",
       "      <th>host_id</th>\n",
       "      <th>room_type</th>\n",
       "      <th>country</th>\n",
       "      <th>city</th>\n",
       "      <th>borough</th>\n",
       "      <th>neighborhood</th>\n",
       "      <th>reviews</th>\n",
       "      <th>overall_satisfaction</th>\n",
       "      <th>...</th>\n",
       "      <th>bedrooms</th>\n",
       "      <th>bathrooms</th>\n",
       "      <th>price</th>\n",
       "      <th>minstay</th>\n",
       "      <th>name</th>\n",
       "      <th>property_type</th>\n",
       "      <th>last_modified</th>\n",
       "      <th>latitude</th>\n",
       "      <th>longitude</th>\n",
       "      <th>location</th>\n",
       "    </tr>\n",
       "  </thead>\n",
       "  <tbody>\n",
       "    <tr>\n",
       "      <th>0</th>\n",
       "      <td>3732200</td>\n",
       "      <td>1418</td>\n",
       "      <td>11284828</td>\n",
       "      <td>Shared room</td>\n",
       "      <td>NaN</td>\n",
       "      <td>Sao Paulo</td>\n",
       "      <td>SAO PAULO</td>\n",
       "      <td>Mooca</td>\n",
       "      <td>0</td>\n",
       "      <td>0.0</td>\n",
       "      <td>...</td>\n",
       "      <td>1.0</td>\n",
       "      <td>NaN</td>\n",
       "      <td>47.0</td>\n",
       "      <td>NaN</td>\n",
       "      <td>Cultural mixing, students travelers</td>\n",
       "      <td>House</td>\n",
       "      <td>2017-07-02 06:21:30.822562</td>\n",
       "      <td>-23.560867</td>\n",
       "      <td>-46.605319</td>\n",
       "      <td>0101000020E6100000DF52CE177B4D47C0D767CEFA948F...</td>\n",
       "    </tr>\n",
       "    <tr>\n",
       "      <th>1</th>\n",
       "      <td>2247926</td>\n",
       "      <td>1418</td>\n",
       "      <td>11480197</td>\n",
       "      <td>Shared room</td>\n",
       "      <td>NaN</td>\n",
       "      <td>Sao Paulo</td>\n",
       "      <td>SAO PAULO</td>\n",
       "      <td>Pinheiros</td>\n",
       "      <td>0</td>\n",
       "      <td>0.0</td>\n",
       "      <td>...</td>\n",
       "      <td>1.0</td>\n",
       "      <td>NaN</td>\n",
       "      <td>21.0</td>\n",
       "      <td>NaN</td>\n",
       "      <td>CityLights Hostel - The Best Hostel</td>\n",
       "      <td>Bed &amp; Breakfast</td>\n",
       "      <td>2017-07-02 06:21:06.042159</td>\n",
       "      <td>-23.562833</td>\n",
       "      <td>-46.694440</td>\n",
       "      <td>0101000020E61000006284F068E35847C00D1CD0D21590...</td>\n",
       "    </tr>\n",
       "    <tr>\n",
       "      <th>2</th>\n",
       "      <td>2674673</td>\n",
       "      <td>1418</td>\n",
       "      <td>13694017</td>\n",
       "      <td>Shared room</td>\n",
       "      <td>NaN</td>\n",
       "      <td>Sao Paulo</td>\n",
       "      <td>SAO PAULO</td>\n",
       "      <td>Itaquera</td>\n",
       "      <td>0</td>\n",
       "      <td>0.0</td>\n",
       "      <td>...</td>\n",
       "      <td>1.0</td>\n",
       "      <td>NaN</td>\n",
       "      <td>311.0</td>\n",
       "      <td>NaN</td>\n",
       "      <td>Sobrado Itaquera SP</td>\n",
       "      <td>House</td>\n",
       "      <td>2017-07-02 06:20:48.882592</td>\n",
       "      <td>-23.543185</td>\n",
       "      <td>-46.457264</td>\n",
       "      <td>0101000020E6100000AFD172A0873A47C082AD122C0E8B...</td>\n",
       "    </tr>\n",
       "    <tr>\n",
       "      <th>3</th>\n",
       "      <td>2996011</td>\n",
       "      <td>1418</td>\n",
       "      <td>15272568</td>\n",
       "      <td>Shared room</td>\n",
       "      <td>NaN</td>\n",
       "      <td>Sao Paulo</td>\n",
       "      <td>SAO PAULO</td>\n",
       "      <td>Penha</td>\n",
       "      <td>0</td>\n",
       "      <td>0.0</td>\n",
       "      <td>...</td>\n",
       "      <td>1.0</td>\n",
       "      <td>NaN</td>\n",
       "      <td>389.0</td>\n",
       "      <td>NaN</td>\n",
       "      <td>5,2 km do estádio de Itaquera alugo</td>\n",
       "      <td>Apartment</td>\n",
       "      <td>2017-07-02 06:20:48.879454</td>\n",
       "      <td>-23.525000</td>\n",
       "      <td>-46.492178</td>\n",
       "      <td>0101000020E6100000C5E74EB0FF3E47C0666666666686...</td>\n",
       "    </tr>\n",
       "    <tr>\n",
       "      <th>4</th>\n",
       "      <td>2939182</td>\n",
       "      <td>1418</td>\n",
       "      <td>15007233</td>\n",
       "      <td>Shared room</td>\n",
       "      <td>NaN</td>\n",
       "      <td>Sao Paulo</td>\n",
       "      <td>SAO PAULO</td>\n",
       "      <td>Iguatemi</td>\n",
       "      <td>0</td>\n",
       "      <td>0.0</td>\n",
       "      <td>...</td>\n",
       "      <td>1.0</td>\n",
       "      <td>NaN</td>\n",
       "      <td>311.0</td>\n",
       "      <td>NaN</td>\n",
       "      <td>Quarto em casa particular</td>\n",
       "      <td>House</td>\n",
       "      <td>2017-07-02 06:20:48.876422</td>\n",
       "      <td>-23.624311</td>\n",
       "      <td>-46.414379</td>\n",
       "      <td>0101000020E61000001893FE5E0A3547C076887FD8D29F...</td>\n",
       "    </tr>\n",
       "  </tbody>\n",
       "</table>\n",
       "<p>5 rows × 21 columns</p>\n",
       "</div>"
      ],
      "text/plain": [
       "   room_id  survey_id   host_id    room_type  country       city    borough  \\\n",
       "0  3732200       1418  11284828  Shared room      NaN  Sao Paulo  SAO PAULO   \n",
       "1  2247926       1418  11480197  Shared room      NaN  Sao Paulo  SAO PAULO   \n",
       "2  2674673       1418  13694017  Shared room      NaN  Sao Paulo  SAO PAULO   \n",
       "3  2996011       1418  15272568  Shared room      NaN  Sao Paulo  SAO PAULO   \n",
       "4  2939182       1418  15007233  Shared room      NaN  Sao Paulo  SAO PAULO   \n",
       "\n",
       "  neighborhood  reviews  overall_satisfaction  ...  bedrooms  bathrooms  \\\n",
       "0        Mooca        0                   0.0  ...       1.0        NaN   \n",
       "1    Pinheiros        0                   0.0  ...       1.0        NaN   \n",
       "2     Itaquera        0                   0.0  ...       1.0        NaN   \n",
       "3        Penha        0                   0.0  ...       1.0        NaN   \n",
       "4     Iguatemi        0                   0.0  ...       1.0        NaN   \n",
       "\n",
       "   price  minstay                                 name    property_type  \\\n",
       "0   47.0      NaN  Cultural mixing, students travelers            House   \n",
       "1   21.0      NaN  CityLights Hostel - The Best Hostel  Bed & Breakfast   \n",
       "2  311.0      NaN                  Sobrado Itaquera SP            House   \n",
       "3  389.0      NaN  5,2 km do estádio de Itaquera alugo        Apartment   \n",
       "4  311.0      NaN            Quarto em casa particular            House   \n",
       "\n",
       "                last_modified   latitude  longitude  \\\n",
       "0  2017-07-02 06:21:30.822562 -23.560867 -46.605319   \n",
       "1  2017-07-02 06:21:06.042159 -23.562833 -46.694440   \n",
       "2  2017-07-02 06:20:48.882592 -23.543185 -46.457264   \n",
       "3  2017-07-02 06:20:48.879454 -23.525000 -46.492178   \n",
       "4  2017-07-02 06:20:48.876422 -23.624311 -46.414379   \n",
       "\n",
       "                                            location  \n",
       "0  0101000020E6100000DF52CE177B4D47C0D767CEFA948F...  \n",
       "1  0101000020E61000006284F068E35847C00D1CD0D21590...  \n",
       "2  0101000020E6100000AFD172A0873A47C082AD122C0E8B...  \n",
       "3  0101000020E6100000C5E74EB0FF3E47C0666666666686...  \n",
       "4  0101000020E61000001893FE5E0A3547C076887FD8D29F...  \n",
       "\n",
       "[5 rows x 21 columns]"
      ]
     },
     "execution_count": 2,
     "metadata": {},
     "output_type": "execute_result"
    }
   ],
   "source": [
    "data = pd.read_csv('airbnb_saopaolo.csv')\n",
    "data.head()"
   ]
  },
  {
   "cell_type": "code",
   "execution_count": 3,
   "metadata": {},
   "outputs": [
    {
     "data": {
      "text/plain": [
       "(11118, 21)"
      ]
     },
     "execution_count": 3,
     "metadata": {},
     "output_type": "execute_result"
    }
   ],
   "source": [
    "#check data size\n",
    "data.shape"
   ]
  },
  {
   "cell_type": "code",
   "execution_count": 4,
   "metadata": {},
   "outputs": [
    {
     "name": "stdout",
     "output_type": "stream",
     "text": [
      "<class 'pandas.core.frame.DataFrame'>\n",
      "RangeIndex: 11118 entries, 0 to 11117\n",
      "Data columns (total 21 columns):\n",
      " #   Column                Non-Null Count  Dtype  \n",
      "---  ------                --------------  -----  \n",
      " 0   room_id               11118 non-null  int64  \n",
      " 1   survey_id             11118 non-null  int64  \n",
      " 2   host_id               11118 non-null  int64  \n",
      " 3   room_type             11118 non-null  object \n",
      " 4   country               0 non-null      float64\n",
      " 5   city                  11118 non-null  object \n",
      " 6   borough               11118 non-null  object \n",
      " 7   neighborhood          11118 non-null  object \n",
      " 8   reviews               11118 non-null  int64  \n",
      " 9   overall_satisfaction  11118 non-null  float64\n",
      " 10  accommodates          11118 non-null  int64  \n",
      " 11  bedrooms              11118 non-null  float64\n",
      " 12  bathrooms             0 non-null      float64\n",
      " 13  price                 11118 non-null  float64\n",
      " 14  minstay               0 non-null      float64\n",
      " 15  name                  11084 non-null  object \n",
      " 16  property_type         11118 non-null  object \n",
      " 17  last_modified         11118 non-null  object \n",
      " 18  latitude              11118 non-null  float64\n",
      " 19  longitude             11118 non-null  float64\n",
      " 20  location              11118 non-null  object \n",
      "dtypes: float64(8), int64(5), object(8)\n",
      "memory usage: 1.8+ MB\n"
     ]
    }
   ],
   "source": [
    "# to see the table summary info\n",
    "data.info()"
   ]
  },
  {
   "cell_type": "code",
   "execution_count": 5,
   "metadata": {},
   "outputs": [
    {
     "data": {
      "text/plain": [
       "Index(['room_id', 'survey_id', 'host_id', 'room_type', 'country', 'city',\n",
       "       'borough', 'neighborhood', 'reviews', 'overall_satisfaction',\n",
       "       'accommodates', 'bedrooms', 'bathrooms', 'price', 'minstay', 'name',\n",
       "       'property_type', 'last_modified', 'latitude', 'longitude', 'location'],\n",
       "      dtype='object')"
      ]
     },
     "execution_count": 5,
     "metadata": {},
     "output_type": "execute_result"
    }
   ],
   "source": [
    "# view the columns of the dataset\n",
    "data.columns"
   ]
  },
  {
   "cell_type": "code",
   "execution_count": 6,
   "metadata": {},
   "outputs": [
    {
     "data": {
      "text/plain": [
       "room_id                     0\n",
       "survey_id                   0\n",
       "host_id                     0\n",
       "room_type                   0\n",
       "country                 11118\n",
       "city                        0\n",
       "borough                     0\n",
       "neighborhood                0\n",
       "reviews                     0\n",
       "overall_satisfaction        0\n",
       "accommodates                0\n",
       "bedrooms                    0\n",
       "bathrooms               11118\n",
       "price                       0\n",
       "minstay                 11118\n",
       "name                       34\n",
       "property_type               0\n",
       "last_modified               0\n",
       "latitude                    0\n",
       "longitude                   0\n",
       "location                    0\n",
       "dtype: int64"
      ]
     },
     "execution_count": 6,
     "metadata": {},
     "output_type": "execute_result"
    }
   ],
   "source": [
    "\n",
    "# see i there are null values\n",
    "data.isnull().sum()"
   ]
  },
  {
   "cell_type": "code",
   "execution_count": 7,
   "metadata": {},
   "outputs": [
    {
     "data": {
      "text/plain": [
       "array(['House', 'Bed & Breakfast', 'Apartment', 'Other', 'Hostel', 'Boat',\n",
       "       'Loft', 'Dorm', 'Cabin', 'Timeshare', 'Pousada', 'Guesthouse',\n",
       "       'Casa particular', 'Condominium', 'Earth House', 'Bungalow',\n",
       "       'Villa', 'Chalet', 'Serviced apartment', 'Townhouse', 'In-law',\n",
       "       'Vacation home', 'Guest suite', 'Tent', 'Boutique hotel',\n",
       "       'Treehouse', 'Plane', 'Nature lodge', 'Camper/RV'], dtype=object)"
      ]
     },
     "execution_count": 7,
     "metadata": {},
     "output_type": "execute_result"
    }
   ],
   "source": [
    "data.property_type.unique()"
   ]
  },
  {
   "cell_type": "code",
   "execution_count": null,
   "metadata": {},
   "outputs": [],
   "source": []
  },
  {
   "cell_type": "code",
   "execution_count": 8,
   "metadata": {},
   "outputs": [
    {
     "data": {
      "text/html": [
       "<div>\n",
       "<style scoped>\n",
       "    .dataframe tbody tr th:only-of-type {\n",
       "        vertical-align: middle;\n",
       "    }\n",
       "\n",
       "    .dataframe tbody tr th {\n",
       "        vertical-align: top;\n",
       "    }\n",
       "\n",
       "    .dataframe thead th {\n",
       "        text-align: right;\n",
       "    }\n",
       "</style>\n",
       "<table border=\"1\" class=\"dataframe\">\n",
       "  <thead>\n",
       "    <tr style=\"text-align: right;\">\n",
       "      <th></th>\n",
       "      <th>room_id</th>\n",
       "      <th>survey_id</th>\n",
       "      <th>host_id</th>\n",
       "      <th>room_type</th>\n",
       "      <th>city</th>\n",
       "      <th>borough</th>\n",
       "      <th>neighborhood</th>\n",
       "      <th>reviews</th>\n",
       "      <th>overall_satisfaction</th>\n",
       "      <th>accommodates</th>\n",
       "      <th>bedrooms</th>\n",
       "      <th>bathrooms</th>\n",
       "      <th>price</th>\n",
       "      <th>minstay</th>\n",
       "      <th>name</th>\n",
       "      <th>property_type</th>\n",
       "      <th>last_modified</th>\n",
       "      <th>latitude</th>\n",
       "      <th>longitude</th>\n",
       "      <th>location</th>\n",
       "    </tr>\n",
       "  </thead>\n",
       "  <tbody>\n",
       "    <tr>\n",
       "      <th>0</th>\n",
       "      <td>3732200</td>\n",
       "      <td>1418</td>\n",
       "      <td>11284828</td>\n",
       "      <td>Shared room</td>\n",
       "      <td>Sao Paulo</td>\n",
       "      <td>SAO PAULO</td>\n",
       "      <td>Mooca</td>\n",
       "      <td>0</td>\n",
       "      <td>0.0</td>\n",
       "      <td>5</td>\n",
       "      <td>1.0</td>\n",
       "      <td>NaN</td>\n",
       "      <td>47.0</td>\n",
       "      <td>NaN</td>\n",
       "      <td>Cultural mixing, students travelers</td>\n",
       "      <td>House</td>\n",
       "      <td>2017-07-02 06:21:30.822562</td>\n",
       "      <td>-23.560867</td>\n",
       "      <td>-46.605319</td>\n",
       "      <td>0101000020E6100000DF52CE177B4D47C0D767CEFA948F...</td>\n",
       "    </tr>\n",
       "    <tr>\n",
       "      <th>1</th>\n",
       "      <td>2247926</td>\n",
       "      <td>1418</td>\n",
       "      <td>11480197</td>\n",
       "      <td>Shared room</td>\n",
       "      <td>Sao Paulo</td>\n",
       "      <td>SAO PAULO</td>\n",
       "      <td>Pinheiros</td>\n",
       "      <td>0</td>\n",
       "      <td>0.0</td>\n",
       "      <td>16</td>\n",
       "      <td>1.0</td>\n",
       "      <td>NaN</td>\n",
       "      <td>21.0</td>\n",
       "      <td>NaN</td>\n",
       "      <td>CityLights Hostel - The Best Hostel</td>\n",
       "      <td>Bed &amp; Breakfast</td>\n",
       "      <td>2017-07-02 06:21:06.042159</td>\n",
       "      <td>-23.562833</td>\n",
       "      <td>-46.694440</td>\n",
       "      <td>0101000020E61000006284F068E35847C00D1CD0D21590...</td>\n",
       "    </tr>\n",
       "    <tr>\n",
       "      <th>2</th>\n",
       "      <td>2674673</td>\n",
       "      <td>1418</td>\n",
       "      <td>13694017</td>\n",
       "      <td>Shared room</td>\n",
       "      <td>Sao Paulo</td>\n",
       "      <td>SAO PAULO</td>\n",
       "      <td>Itaquera</td>\n",
       "      <td>0</td>\n",
       "      <td>0.0</td>\n",
       "      <td>8</td>\n",
       "      <td>1.0</td>\n",
       "      <td>NaN</td>\n",
       "      <td>311.0</td>\n",
       "      <td>NaN</td>\n",
       "      <td>Sobrado Itaquera SP</td>\n",
       "      <td>House</td>\n",
       "      <td>2017-07-02 06:20:48.882592</td>\n",
       "      <td>-23.543185</td>\n",
       "      <td>-46.457264</td>\n",
       "      <td>0101000020E6100000AFD172A0873A47C082AD122C0E8B...</td>\n",
       "    </tr>\n",
       "    <tr>\n",
       "      <th>3</th>\n",
       "      <td>2996011</td>\n",
       "      <td>1418</td>\n",
       "      <td>15272568</td>\n",
       "      <td>Shared room</td>\n",
       "      <td>Sao Paulo</td>\n",
       "      <td>SAO PAULO</td>\n",
       "      <td>Penha</td>\n",
       "      <td>0</td>\n",
       "      <td>0.0</td>\n",
       "      <td>5</td>\n",
       "      <td>1.0</td>\n",
       "      <td>NaN</td>\n",
       "      <td>389.0</td>\n",
       "      <td>NaN</td>\n",
       "      <td>5,2 km do estádio de Itaquera alugo</td>\n",
       "      <td>Apartment</td>\n",
       "      <td>2017-07-02 06:20:48.879454</td>\n",
       "      <td>-23.525000</td>\n",
       "      <td>-46.492178</td>\n",
       "      <td>0101000020E6100000C5E74EB0FF3E47C0666666666686...</td>\n",
       "    </tr>\n",
       "    <tr>\n",
       "      <th>4</th>\n",
       "      <td>2939182</td>\n",
       "      <td>1418</td>\n",
       "      <td>15007233</td>\n",
       "      <td>Shared room</td>\n",
       "      <td>Sao Paulo</td>\n",
       "      <td>SAO PAULO</td>\n",
       "      <td>Iguatemi</td>\n",
       "      <td>0</td>\n",
       "      <td>0.0</td>\n",
       "      <td>4</td>\n",
       "      <td>1.0</td>\n",
       "      <td>NaN</td>\n",
       "      <td>311.0</td>\n",
       "      <td>NaN</td>\n",
       "      <td>Quarto em casa particular</td>\n",
       "      <td>House</td>\n",
       "      <td>2017-07-02 06:20:48.876422</td>\n",
       "      <td>-23.624311</td>\n",
       "      <td>-46.414379</td>\n",
       "      <td>0101000020E61000001893FE5E0A3547C076887FD8D29F...</td>\n",
       "    </tr>\n",
       "  </tbody>\n",
       "</table>\n",
       "</div>"
      ],
      "text/plain": [
       "   room_id  survey_id   host_id    room_type       city    borough  \\\n",
       "0  3732200       1418  11284828  Shared room  Sao Paulo  SAO PAULO   \n",
       "1  2247926       1418  11480197  Shared room  Sao Paulo  SAO PAULO   \n",
       "2  2674673       1418  13694017  Shared room  Sao Paulo  SAO PAULO   \n",
       "3  2996011       1418  15272568  Shared room  Sao Paulo  SAO PAULO   \n",
       "4  2939182       1418  15007233  Shared room  Sao Paulo  SAO PAULO   \n",
       "\n",
       "  neighborhood  reviews  overall_satisfaction  accommodates  bedrooms  \\\n",
       "0        Mooca        0                   0.0             5       1.0   \n",
       "1    Pinheiros        0                   0.0            16       1.0   \n",
       "2     Itaquera        0                   0.0             8       1.0   \n",
       "3        Penha        0                   0.0             5       1.0   \n",
       "4     Iguatemi        0                   0.0             4       1.0   \n",
       "\n",
       "   bathrooms  price  minstay                                 name  \\\n",
       "0        NaN   47.0      NaN  Cultural mixing, students travelers   \n",
       "1        NaN   21.0      NaN  CityLights Hostel - The Best Hostel   \n",
       "2        NaN  311.0      NaN                  Sobrado Itaquera SP   \n",
       "3        NaN  389.0      NaN  5,2 km do estádio de Itaquera alugo   \n",
       "4        NaN  311.0      NaN            Quarto em casa particular   \n",
       "\n",
       "     property_type               last_modified   latitude  longitude  \\\n",
       "0            House  2017-07-02 06:21:30.822562 -23.560867 -46.605319   \n",
       "1  Bed & Breakfast  2017-07-02 06:21:06.042159 -23.562833 -46.694440   \n",
       "2            House  2017-07-02 06:20:48.882592 -23.543185 -46.457264   \n",
       "3        Apartment  2017-07-02 06:20:48.879454 -23.525000 -46.492178   \n",
       "4            House  2017-07-02 06:20:48.876422 -23.624311 -46.414379   \n",
       "\n",
       "                                            location  \n",
       "0  0101000020E6100000DF52CE177B4D47C0D767CEFA948F...  \n",
       "1  0101000020E61000006284F068E35847C00D1CD0D21590...  \n",
       "2  0101000020E6100000AFD172A0873A47C082AD122C0E8B...  \n",
       "3  0101000020E6100000C5E74EB0FF3E47C0666666666686...  \n",
       "4  0101000020E61000001893FE5E0A3547C076887FD8D29F...  "
      ]
     },
     "execution_count": 8,
     "metadata": {},
     "output_type": "execute_result"
    }
   ],
   "source": [
    "#drop columns we dont need (bathrooms, minstay, country )\n",
    "data.drop(columns =\"country\",axis=5, inplace=True)\n",
    "data.head()"
   ]
  },
  {
   "cell_type": "markdown",
   "metadata": {},
   "source": [
    "### visualizations"
   ]
  },
  {
   "cell_type": "code",
   "execution_count": 9,
   "metadata": {},
   "outputs": [
    {
     "data": {
      "text/plain": [
       "room_id                 1.097865e+07\n",
       "survey_id               1.418000e+03\n",
       "host_id                 4.341759e+07\n",
       "reviews                 6.164598e+00\n",
       "overall_satisfaction    1.752339e+00\n",
       "accommodates            3.040295e+00\n",
       "bedrooms                1.317143e+00\n",
       "bathrooms                        NaN\n",
       "price                   8.402761e+01\n",
       "minstay                          NaN\n",
       "latitude               -2.356962e+01\n",
       "longitude              -4.665815e+01\n",
       "dtype: float64"
      ]
     },
     "execution_count": 9,
     "metadata": {},
     "output_type": "execute_result"
    }
   ],
   "source": [
    "#### What is the difference between this calculation \n",
    "\n",
    "data.mean()"
   ]
  },
  {
   "cell_type": "code",
   "execution_count": 10,
   "metadata": {},
   "outputs": [
    {
     "data": {
      "text/plain": [
       "84.02761288001439"
      ]
     },
     "execution_count": 10,
     "metadata": {},
     "output_type": "execute_result"
    }
   ],
   "source": [
    "####and this?\n",
    "\n",
    "\n",
    "data['price'].mean()"
   ]
  },
  {
   "cell_type": "code",
   "execution_count": 11,
   "metadata": {},
   "outputs": [
    {
     "data": {
      "text/plain": [
       "84.02761288001439"
      ]
     },
     "execution_count": 11,
     "metadata": {},
     "output_type": "execute_result"
    }
   ],
   "source": [
    "price = sum(data['price']) / len(data['price'])\n",
    "price"
   ]
  },
  {
   "cell_type": "code",
   "execution_count": 4,
   "metadata": {},
   "outputs": [
    {
     "data": {
      "image/png": "[encoded data removed]",
      "text/plain": [
       "<Figure size 1080x360 with 1 Axes>"
      ]
     },
     "metadata": {
      "needs_background": "light"
     },
     "output_type": "display_data"
    }
   ],
   "source": [
    "#bar graph of price per property\n",
    "\n",
    "ptyp = data.groupby(by='property_type',as_index=True).mean().reset_index()\n",
    "\n",
    "price = ptyp['price']\n",
    "ptype = ptyp['property_type']\n",
    "\n",
    "fig = plt.figure(figsize = (15, 5))\n",
    "\n",
    "plt.bar(ptype, price, color ='maroon',  width = 0.6)\n",
    "\n",
    "plt.xlabel(\"Property types\") \n",
    "plt.ylabel(\"Prices\") \n",
    "plt.title(\"AirBnB rental prices in Sao Paolo in 2017\") \n",
    "\n",
    "plt.xticks(rotation=90)\n",
    "\n",
    "plt.show() \n",
    "\n"
   ]
  },
  {
   "cell_type": "code",
   "execution_count": 13,
   "metadata": {},
   "outputs": [
    {
     "data": {
      "text/plain": [
       "11118"
      ]
     },
     "execution_count": 13,
     "metadata": {},
     "output_type": "execute_result"
    }
   ],
   "source": [
    "data['property_type'].count()"
   ]
  },
  {
   "cell_type": "code",
   "execution_count": 14,
   "metadata": {},
   "outputs": [
    {
     "data": {
      "image/png": "[encoded data removed]",
      "text/plain": [
       "<Figure size 720x360 with 1 Axes>"
      ]
     },
     "metadata": {
      "needs_background": "light"
     },
     "output_type": "display_data"
    }
   ],
   "source": [
    "## bar graph of price per room type\n",
    "price = data['price']\n",
    "roomt = data['room_type']\n",
    "\n",
    "fig = plt.figure(figsize = (10, 5))\n",
    "\n",
    "plt.bar(roomt, price, color ='green',  width = 0.4)\n",
    "\n",
    "plt.xlabel(\"room_type\") \n",
    "plt.ylabel(\"Prices\") \n",
    "plt.title(\" prices in Sao Paolo in 2017\") \n",
    "\n",
    "plt.show() \n",
    "\n"
   ]
  },
  {
   "cell_type": "code",
   "execution_count": 15,
   "metadata": {},
   "outputs": [
    {
     "data": {
      "image/png": "[encoded data removed]",
      "text/plain": [
       "<Figure size 720x360 with 1 Axes>"
      ]
     },
     "metadata": {
      "needs_background": "light"
     },
     "output_type": "display_data"
    }
   ],
   "source": [
    "## Bar graph of number of people accomodated per room type\n",
    "accom = data['accommodates']\n",
    "broom = data['bedrooms']\n",
    "\n",
    "fig = plt.figure(figsize = (10, 5))\n",
    "\n",
    "\n",
    "plt.bar(accom, broom,  color = 'b')\n",
    "\n",
    "plt.xlabel(\"Accomodated number\") \n",
    "plt.ylabel(\"bedrooms\") \n",
    "plt.title(\"Accomodated vs bedrooms\") \n",
    "\n",
    "plt.show() "
   ]
  },
  {
   "cell_type": "code",
   "execution_count": 85,
   "metadata": {},
   "outputs": [
    {
     "data": {
      "image/png": "[encoded data removed]",
      "text/plain": [
       "<Figure size 720x360 with 1 Axes>"
      ]
     },
     "metadata": {
      "needs_background": "light"
     },
     "output_type": "display_data"
    }
   ],
   "source": [
    "price = data['price']\n",
    "broom = data['bedrooms']\n",
    "\n",
    "fig = plt.figure(figsize = (10, 5))\n",
    "\n",
    "\n",
    "plt.scatter(broom, price,  color = 'b')\n",
    "\n",
    "\n",
    "plt.xlabel(\"bedrooms\") \n",
    "plt.ylabel(\"Prices\") \n",
    "plt.title(\"Relationship between price and bedrooms\") \n",
    "\n",
    "plt.show() "
   ]
  },
  {
   "cell_type": "code",
   "execution_count": 5,
   "metadata": {},
   "outputs": [
    {
     "data": {
      "text/html": [
       "<div>\n",
       "<style scoped>\n",
       "    .dataframe tbody tr th:only-of-type {\n",
       "        vertical-align: middle;\n",
       "    }\n",
       "\n",
       "    .dataframe tbody tr th {\n",
       "        vertical-align: top;\n",
       "    }\n",
       "\n",
       "    .dataframe thead th {\n",
       "        text-align: right;\n",
       "    }\n",
       "</style>\n",
       "<table border=\"1\" class=\"dataframe\">\n",
       "  <thead>\n",
       "    <tr style=\"text-align: right;\">\n",
       "      <th></th>\n",
       "      <th>room_id</th>\n",
       "      <th>survey_id</th>\n",
       "      <th>host_id</th>\n",
       "      <th>room_type</th>\n",
       "      <th>country</th>\n",
       "      <th>city</th>\n",
       "      <th>borough</th>\n",
       "      <th>neighborhood</th>\n",
       "      <th>reviews</th>\n",
       "      <th>overall_satisfaction</th>\n",
       "      <th>...</th>\n",
       "      <th>bedrooms</th>\n",
       "      <th>bathrooms</th>\n",
       "      <th>price</th>\n",
       "      <th>minstay</th>\n",
       "      <th>name</th>\n",
       "      <th>property_type</th>\n",
       "      <th>last_modified</th>\n",
       "      <th>latitude</th>\n",
       "      <th>longitude</th>\n",
       "      <th>location</th>\n",
       "    </tr>\n",
       "  </thead>\n",
       "  <tbody>\n",
       "    <tr>\n",
       "      <th>0</th>\n",
       "      <td>3732200</td>\n",
       "      <td>1418</td>\n",
       "      <td>11284828</td>\n",
       "      <td>Shared room</td>\n",
       "      <td>NaN</td>\n",
       "      <td>Sao Paulo</td>\n",
       "      <td>SAO PAULO</td>\n",
       "      <td>Mooca</td>\n",
       "      <td>0</td>\n",
       "      <td>0.0</td>\n",
       "      <td>...</td>\n",
       "      <td>1.0</td>\n",
       "      <td>NaN</td>\n",
       "      <td>47.0</td>\n",
       "      <td>NaN</td>\n",
       "      <td>Cultural mixing, students travelers</td>\n",
       "      <td>House</td>\n",
       "      <td>2017-07-02 06:21:30.822562</td>\n",
       "      <td>-23.560867</td>\n",
       "      <td>-46.605319</td>\n",
       "      <td>0101000020E6100000DF52CE177B4D47C0D767CEFA948F...</td>\n",
       "    </tr>\n",
       "    <tr>\n",
       "      <th>1</th>\n",
       "      <td>2247926</td>\n",
       "      <td>1418</td>\n",
       "      <td>11480197</td>\n",
       "      <td>Shared room</td>\n",
       "      <td>NaN</td>\n",
       "      <td>Sao Paulo</td>\n",
       "      <td>SAO PAULO</td>\n",
       "      <td>Pinheiros</td>\n",
       "      <td>0</td>\n",
       "      <td>0.0</td>\n",
       "      <td>...</td>\n",
       "      <td>1.0</td>\n",
       "      <td>NaN</td>\n",
       "      <td>21.0</td>\n",
       "      <td>NaN</td>\n",
       "      <td>CityLights Hostel - The Best Hostel</td>\n",
       "      <td>Bed &amp; Breakfast</td>\n",
       "      <td>2017-07-02 06:21:06.042159</td>\n",
       "      <td>-23.562833</td>\n",
       "      <td>-46.694440</td>\n",
       "      <td>0101000020E61000006284F068E35847C00D1CD0D21590...</td>\n",
       "    </tr>\n",
       "    <tr>\n",
       "      <th>2</th>\n",
       "      <td>2674673</td>\n",
       "      <td>1418</td>\n",
       "      <td>13694017</td>\n",
       "      <td>Shared room</td>\n",
       "      <td>NaN</td>\n",
       "      <td>Sao Paulo</td>\n",
       "      <td>SAO PAULO</td>\n",
       "      <td>Itaquera</td>\n",
       "      <td>0</td>\n",
       "      <td>0.0</td>\n",
       "      <td>...</td>\n",
       "      <td>1.0</td>\n",
       "      <td>NaN</td>\n",
       "      <td>311.0</td>\n",
       "      <td>NaN</td>\n",
       "      <td>Sobrado Itaquera SP</td>\n",
       "      <td>House</td>\n",
       "      <td>2017-07-02 06:20:48.882592</td>\n",
       "      <td>-23.543185</td>\n",
       "      <td>-46.457264</td>\n",
       "      <td>0101000020E6100000AFD172A0873A47C082AD122C0E8B...</td>\n",
       "    </tr>\n",
       "    <tr>\n",
       "      <th>3</th>\n",
       "      <td>2996011</td>\n",
       "      <td>1418</td>\n",
       "      <td>15272568</td>\n",
       "      <td>Shared room</td>\n",
       "      <td>NaN</td>\n",
       "      <td>Sao Paulo</td>\n",
       "      <td>SAO PAULO</td>\n",
       "      <td>Penha</td>\n",
       "      <td>0</td>\n",
       "      <td>0.0</td>\n",
       "      <td>...</td>\n",
       "      <td>1.0</td>\n",
       "      <td>NaN</td>\n",
       "      <td>389.0</td>\n",
       "      <td>NaN</td>\n",
       "      <td>5,2 km do estádio de Itaquera alugo</td>\n",
       "      <td>Apartment</td>\n",
       "      <td>2017-07-02 06:20:48.879454</td>\n",
       "      <td>-23.525000</td>\n",
       "      <td>-46.492178</td>\n",
       "      <td>0101000020E6100000C5E74EB0FF3E47C0666666666686...</td>\n",
       "    </tr>\n",
       "    <tr>\n",
       "      <th>4</th>\n",
       "      <td>2939182</td>\n",
       "      <td>1418</td>\n",
       "      <td>15007233</td>\n",
       "      <td>Shared room</td>\n",
       "      <td>NaN</td>\n",
       "      <td>Sao Paulo</td>\n",
       "      <td>SAO PAULO</td>\n",
       "      <td>Iguatemi</td>\n",
       "      <td>0</td>\n",
       "      <td>0.0</td>\n",
       "      <td>...</td>\n",
       "      <td>1.0</td>\n",
       "      <td>NaN</td>\n",
       "      <td>311.0</td>\n",
       "      <td>NaN</td>\n",
       "      <td>Quarto em casa particular</td>\n",
       "      <td>House</td>\n",
       "      <td>2017-07-02 06:20:48.876422</td>\n",
       "      <td>-23.624311</td>\n",
       "      <td>-46.414379</td>\n",
       "      <td>0101000020E61000001893FE5E0A3547C076887FD8D29F...</td>\n",
       "    </tr>\n",
       "  </tbody>\n",
       "</table>\n",
       "<p>5 rows × 21 columns</p>\n",
       "</div>"
      ],
      "text/plain": [
       "   room_id  survey_id   host_id    room_type  country       city    borough  \\\n",
       "0  3732200       1418  11284828  Shared room      NaN  Sao Paulo  SAO PAULO   \n",
       "1  2247926       1418  11480197  Shared room      NaN  Sao Paulo  SAO PAULO   \n",
       "2  2674673       1418  13694017  Shared room      NaN  Sao Paulo  SAO PAULO   \n",
       "3  2996011       1418  15272568  Shared room      NaN  Sao Paulo  SAO PAULO   \n",
       "4  2939182       1418  15007233  Shared room      NaN  Sao Paulo  SAO PAULO   \n",
       "\n",
       "  neighborhood  reviews  overall_satisfaction  ...  bedrooms  bathrooms  \\\n",
       "0        Mooca        0                   0.0  ...       1.0        NaN   \n",
       "1    Pinheiros        0                   0.0  ...       1.0        NaN   \n",
       "2     Itaquera        0                   0.0  ...       1.0        NaN   \n",
       "3        Penha        0                   0.0  ...       1.0        NaN   \n",
       "4     Iguatemi        0                   0.0  ...       1.0        NaN   \n",
       "\n",
       "   price  minstay                                 name    property_type  \\\n",
       "0   47.0      NaN  Cultural mixing, students travelers            House   \n",
       "1   21.0      NaN  CityLights Hostel - The Best Hostel  Bed & Breakfast   \n",
       "2  311.0      NaN                  Sobrado Itaquera SP            House   \n",
       "3  389.0      NaN  5,2 km do estádio de Itaquera alugo        Apartment   \n",
       "4  311.0      NaN            Quarto em casa particular            House   \n",
       "\n",
       "                last_modified   latitude  longitude  \\\n",
       "0  2017-07-02 06:21:30.822562 -23.560867 -46.605319   \n",
       "1  2017-07-02 06:21:06.042159 -23.562833 -46.694440   \n",
       "2  2017-07-02 06:20:48.882592 -23.543185 -46.457264   \n",
       "3  2017-07-02 06:20:48.879454 -23.525000 -46.492178   \n",
       "4  2017-07-02 06:20:48.876422 -23.624311 -46.414379   \n",
       "\n",
       "                                            location  \n",
       "0  0101000020E6100000DF52CE177B4D47C0D767CEFA948F...  \n",
       "1  0101000020E61000006284F068E35847C00D1CD0D21590...  \n",
       "2  0101000020E6100000AFD172A0873A47C082AD122C0E8B...  \n",
       "3  0101000020E6100000C5E74EB0FF3E47C0666666666686...  \n",
       "4  0101000020E61000001893FE5E0A3547C076887FD8D29F...  \n",
       "\n",
       "[5 rows x 21 columns]"
      ]
     },
     "execution_count": 5,
     "metadata": {},
     "output_type": "execute_result"
    }
   ],
   "source": [
    "data.head()"
   ]
  },
  {
   "cell_type": "markdown",
   "metadata": {},
   "source": [
    "### Linear equation"
   ]
  },
  {
   "cell_type": "code",
   "execution_count": 17,
   "metadata": {},
   "outputs": [
    {
     "data": {
      "text/plain": [
       "array([ 1., 10.,  9.,  4.,  3.,  2.,  5.,  0.,  7.,  6.,  8.])"
      ]
     },
     "execution_count": 17,
     "metadata": {},
     "output_type": "execute_result"
    }
   ],
   "source": [
    "data.bedrooms.unique()"
   ]
  },
  {
   "cell_type": "code",
   "execution_count": 80,
   "metadata": {},
   "outputs": [
    {
     "data": {
      "text/plain": [
       "LinearRegression()"
      ]
     },
     "execution_count": 80,
     "metadata": {},
     "output_type": "execute_result"
    }
   ],
   "source": [
    "##Create an array of the data to use\n",
    "x = np.array(data['bedrooms'])\n",
    "y = np.array(data['price'])\n",
    "\n",
    "\n",
    "#create a linear regression object\n",
    "lreg = LinearRegression()\n",
    "\n",
    "#reshape the data\n",
    "x = x.reshape(-1, 1)\n",
    "\n",
    "lreg.fit(x, y)"
   ]
  },
  {
   "cell_type": "code",
   "execution_count": 81,
   "metadata": {},
   "outputs": [],
   "source": [
    "y_pred = lreg.predict(x)"
   ]
  },
  {
   "cell_type": "code",
   "execution_count": 82,
   "metadata": {},
   "outputs": [
    {
     "data": {
      "image/png": "[encoded data removed]",
      "text/plain": [
       "<Figure size 432x288 with 1 Axes>"
      ]
     },
     "metadata": {
      "needs_background": "light"
     },
     "output_type": "display_data"
    }
   ],
   "source": [
    "plt.scatter(x, y)\n",
    "plt.plot(x,y_pred, color='red')\n",
    "plt.show()"
   ]
  },
  {
   "cell_type": "code",
   "execution_count": 87,
   "metadata": {},
   "outputs": [
    {
     "name": "stdout",
     "output_type": "stream",
     "text": [
      "intercept is: -10.4\n",
      "Slope is: [71.7]\n"
     ]
    }
   ],
   "source": [
    "def slr():\n",
    "    slope = str(np.round(lreg.coef_, 1))\n",
    "    intercept = str(np.round(lreg.intercept_, 1))\n",
    "    \n",
    "    print('intercept is: '+intercept+'\\nSlope is: '+slope)\n",
    "\n",
    "slr()"
   ]
  },
  {
   "cell_type": "code",
   "execution_count": 84,
   "metadata": {},
   "outputs": [
    {
     "data": {
      "text/plain": [
       "array([[1.],\n",
       "       [1.],\n",
       "       [1.],\n",
       "       [1.],\n",
       "       [1.],\n",
       "       [1.],\n",
       "       [1.],\n",
       "       [1.],\n",
       "       [1.],\n",
       "       [1.]])"
      ]
     },
     "execution_count": 84,
     "metadata": {},
     "output_type": "execute_result"
    }
   ],
   "source": [
    "x[:10]"
   ]
  },
  {
   "cell_type": "code",
   "execution_count": null,
   "metadata": {},
   "outputs": [],
   "source": []
  }
 ],
 "metadata": {
  "kernelspec": {
   "display_name": "Python 3",
   "language": "python",
   "name": "python3"
  },
  "language_info": {
   "codemirror_mode": {
    "name": "ipython",
    "version": 3
   },
   "file_extension": ".py",
   "mimetype": "text/x-python",
   "name": "python",
   "nbconvert_exporter": "python",
   "pygments_lexer": "ipython3",
   "version": "3.8.3"
  }
 },
 "nbformat": 4,
 "nbformat_minor": 4
}
